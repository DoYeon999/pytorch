{
 "cells": [
  {
   "cell_type": "code",
   "execution_count": 61,
   "metadata": {},
   "outputs": [],
   "source": [
    "import numpy as np\n",
    "\n",
    "# 미분식\n",
    "def numerical_derivative(f, x):\n",
    "  delta_x=1e-4\n",
    "  return (f(x+delta_x)-f(x-delta_x))/(2*delta_x)"
   ]
  },
  {
   "cell_type": "code",
   "execution_count": 62,
   "metadata": {},
   "outputs": [
    {
     "name": "stdout",
     "output_type": "stream",
     "text": [
      "8.000000000016882\n"
     ]
    }
   ],
   "source": [
    "def my_func1(x):\n",
    "  return x**2\n",
    "\n",
    "# x**2 + 2x + 1 = 9\n",
    "# 미분 2x + 2 = 6\n",
    "def my_func2(x):\n",
    "  return x**2 + 2*x +1  \n",
    "\n",
    "result=numerical_derivative(my_func2, 3)\n",
    "print(result)"
   ]
  },
  {
   "cell_type": "code",
   "execution_count": 63,
   "metadata": {},
   "outputs": [],
   "source": [
    "# 수치미분 – 다변수\n",
    "def numerical_derivative2(f,x):\n",
    "  delta_x=1e-4\n",
    "  grad=np.zeros_like(x)\n",
    "  print('x:',x)\n",
    "  print('grad:',grad)\n",
    "\n",
    "  it=np.nditer(x,flags=['multi_index'], op_flags=['readwrite'])\n",
    "\n",
    "  while not it.finished:\n",
    "    idx=it.multi_index\n",
    "    print('idx:',idx,'x[idx]:',x[idx])\n",
    "    tmp_val=x[idx]\n",
    "    x[idx]=float(tmp_val)+delta_x\n",
    "    fx1=f(x)\n",
    "    x[idx]=tmp_val-delta_x\n",
    "    fx2=f(x)\n",
    "\n",
    "    grad[idx]=(fx1-fx2)/(2*delta_x)\n",
    "    print('grad[idx]:',grad[idx])\n",
    "    print('grad',grad)\n",
    "\n",
    "    x[idx]=tmp_val\n",
    "    it.iternext()\n",
    "\n",
    "  return grad"
   ]
  },
  {
   "cell_type": "code",
   "execution_count": 64,
   "metadata": {},
   "outputs": [],
   "source": [
    "def func1(input):\n",
    "  x=input[0]\n",
    "  y=input[1]\n",
    "  return (2*x + 3*x*y + np.power(y,3))"
   ]
  },
  {
   "cell_type": "code",
   "execution_count": 65,
   "metadata": {},
   "outputs": [
    {
     "name": "stdout",
     "output_type": "stream",
     "text": [
      "x: [3. 2.]\n",
      "grad: [0. 0.]\n",
      "idx: (0,) x[idx]: 3.0\n",
      "grad[idx]: 7.999999999999119\n",
      "grad [8. 0.]\n",
      "idx: (1,) x[idx]: 2.0\n",
      "grad[idx]: 21.000000010040765\n",
      "grad [ 8.         21.00000001]\n"
     ]
    },
    {
     "data": {
      "text/plain": [
       "array([ 8.        , 21.00000001])"
      ]
     },
     "execution_count": 65,
     "metadata": {},
     "output_type": "execute_result"
    }
   ],
   "source": [
    "numerical_derivative2(func1, np.array([3.0, 2.0]))"
   ]
  },
  {
   "cell_type": "code",
   "execution_count": 67,
   "metadata": {},
   "outputs": [],
   "source": [
    "def func2(input):\n",
    "  w=input[0][0]\n",
    "  x=input[0][1]\n",
    "  y=input[1][0]\n",
    "  z=input[1][1]\n",
    "\n",
    "  return (w*x + x*y*z + 3*w + z**2)"
   ]
  },
  {
   "cell_type": "code",
   "execution_count": 68,
   "metadata": {},
   "outputs": [
    {
     "name": "stdout",
     "output_type": "stream",
     "text": [
      "x: [3]\n",
      "grad: [0]\n",
      "idx: (0,) x[idx]: 3\n",
      "grad[idx]: 25000\n",
      "grad [25000]\n"
     ]
    },
    {
     "data": {
      "text/plain": [
       "array([25000])"
      ]
     },
     "execution_count": 68,
     "metadata": {},
     "output_type": "execute_result"
    }
   ],
   "source": [
    "numerical_derivative2(my_func1, np.array([3]))"
   ]
  }
 ],
 "metadata": {
  "kernelspec": {
   "display_name": "base",
   "language": "python",
   "name": "python3"
  },
  "language_info": {
   "codemirror_mode": {
    "name": "ipython",
    "version": 3
   },
   "file_extension": ".py",
   "mimetype": "text/x-python",
   "name": "python",
   "nbconvert_exporter": "python",
   "pygments_lexer": "ipython3",
   "version": "3.11.4"
  },
  "orig_nbformat": 4
 },
 "nbformat": 4,
 "nbformat_minor": 2
}
