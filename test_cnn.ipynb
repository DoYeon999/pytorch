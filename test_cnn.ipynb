{
 "cells": [
  {
   "cell_type": "code",
   "execution_count": 37,
   "metadata": {},
   "outputs": [],
   "source": [
    "import torch\n",
    "from torchvision import transforms\n",
    "import torch.nn as nn\n",
    "import numpy as np\n",
    "from PIL import Image\n",
    "from torch.utils.data import DataLoader, TensorDataset\n",
    "from torchvision.datasets import ImageFolder\n",
    "import matplotlib.pyplot as plt\n",
    "from torchvision.utils import save_image"
   ]
  },
  {
   "cell_type": "code",
   "execution_count": 38,
   "metadata": {},
   "outputs": [],
   "source": [
    "\n",
    "IMAGE_SIZE= 128\n"
   ]
  },
  {
   "cell_type": "code",
   "execution_count": 39,
   "metadata": {},
   "outputs": [
    {
     "name": "stdout",
     "output_type": "stream",
     "text": [
      "tensor([0, 0, 0, 0, 0])\n",
      "torch.Size([5, 3, 128, 128])\n"
     ]
    }
   ],
   "source": [
    "original_dataset=ImageFolder(root='CNN/data/imagefile',transform=transforms.Compose([transforms.Resize((IMAGE_SIZE,IMAGE_SIZE)),\n",
    "                                                                              transforms.ToTensor()\n",
    "]))\n",
    "original_loader=DataLoader(original_dataset,batch_size=5,shuffle=True,num_workers=1)\n",
    "original_image, labels=next(iter(original_loader))\n",
    "print(labels)\n",
    "print(original_image.size())\n",
    "X=original_image\n",
    "Y=labels"
   ]
  },
  {
   "cell_type": "code",
   "execution_count": 40,
   "metadata": {},
   "outputs": [
    {
     "data": {
      "image/png": "[encoded data removed]",
      "text/plain": [
       "<Figure size 300x300 with 5 Axes>"
      ]
     },
     "metadata": {},
     "output_type": "display_data"
    }
   ],
   "source": [
    "plt.figure(figsize=(3,3))\n",
    "for i in range(len(original_image)):\n",
    "  plt.subplot(1,5,i+1)\n",
    "  plt.imshow(original_image[i].permute(1,2,0))\n",
    "  plt.axis('off')\n",
    "plt.show()"
   ]
  },
  {
   "cell_type": "code",
   "execution_count": 41,
   "metadata": {},
   "outputs": [],
   "source": [
    "class CNN(nn.Module):\n",
    "  def __init__(self):\n",
    "    super(CNN, self).__init__()\n",
    "    self.conv1=nn.Conv2d(  #128*128\n",
    "        in_channels=3,\n",
    "        out_channels=8,\n",
    "        kernel_size=3,\n",
    "        padding=1\n",
    "    )\n",
    "    self.conv2=nn.Conv2d(\n",
    "        in_channels=8,\n",
    "        out_channels=16,\n",
    "        kernel_size=3,\n",
    "        padding=1\n",
    "    )\n",
    "    self.conv3=nn.Conv2d(\n",
    "        in_channels=16,\n",
    "        out_channels=32,\n",
    "        kernel_size=3,\n",
    "        padding=1\n",
    "    )\n",
    "    self.conv4=nn.Conv2d(\n",
    "        in_channels=32,\n",
    "        out_channels=64,\n",
    "        kernel_size=3,\n",
    "        padding=1\n",
    "    )\n",
    "    self.pool=nn.MaxPool2d(kernel_size=2, stride=2)\n",
    "\n",
    "    self.fc1=nn.Linear(8*8*64, 128)\n",
    "    self.fc2=nn.Linear(128, 64)\n",
    "    self.fc3=nn.Linear(64, 5)\n",
    "\n",
    "  def forward(self, x): #[3, 128, 128]\n",
    "    x=self.conv1(x)\n",
    "    x=torch.relu(x)\n",
    "    x=self.pool(x)  #[8, 64, 64]\n",
    "    x=self.conv2(x)\n",
    "    x=torch.relu(x)\n",
    "    x=self.pool(x) #[16, 32,32]\n",
    "    x=self.conv3(x)\n",
    "    x=torch.relu(x)\n",
    "    x=self.pool(x) #[32, 16,16]\n",
    "    x=self.conv4(x)\n",
    "    x=torch.relu(x)\n",
    "    x=self.pool(x)  #[64, 8, 8]\n",
    "\n",
    "    x=x.view(-1, 8*8*64)\n",
    "    x=self.fc1(x)\n",
    "    x=self.fc2(x)\n",
    "    x=self.fc3(x)\n",
    "    x=torch.log_softmax(x, dim=1)\n",
    "    return x"
   ]
  },
  {
   "cell_type": "code",
   "execution_count": 42,
   "metadata": {},
   "outputs": [],
   "source": [
    "device= torch.device(\"cuda\") if torch.cuda.is_available() else torch.device(\"cpu\")\n",
    "\n",
    "# model = CNN().to(device)\n",
    "# optimizer = torch.optim.Adam(model.parameters(), lr=0.001)\n",
    "# criterion = nn.CrossEntropyLoss()"
   ]
  },
  {
   "cell_type": "code",
   "execution_count": 43,
   "metadata": {},
   "outputs": [],
   "source": [
    "path='model1/model.pt'\n",
    "#torch.save(model.state_dict(),path)"
   ]
  },
  {
   "cell_type": "code",
   "execution_count": 44,
   "metadata": {},
   "outputs": [
    {
     "data": {
      "text/plain": [
       "CNN(\n",
       "  (conv1): Conv2d(3, 8, kernel_size=(3, 3), stride=(1, 1), padding=(1, 1))\n",
       "  (conv2): Conv2d(8, 16, kernel_size=(3, 3), stride=(1, 1), padding=(1, 1))\n",
       "  (conv3): Conv2d(16, 32, kernel_size=(3, 3), stride=(1, 1), padding=(1, 1))\n",
       "  (conv4): Conv2d(32, 64, kernel_size=(3, 3), stride=(1, 1), padding=(1, 1))\n",
       "  (pool): MaxPool2d(kernel_size=2, stride=2, padding=0, dilation=1, ceil_mode=False)\n",
       "  (fc1): Linear(in_features=4096, out_features=128, bias=True)\n",
       "  (fc2): Linear(in_features=128, out_features=64, bias=True)\n",
       "  (fc3): Linear(in_features=64, out_features=5, bias=True)\n",
       ")"
      ]
     },
     "execution_count": 44,
     "metadata": {},
     "output_type": "execute_result"
    }
   ],
   "source": [
    "model2=CNN().to(device)\n",
    "model2.load_state_dict(torch.load(path))\n",
    "model2.eval()"
   ]
  },
  {
   "cell_type": "code",
   "execution_count": 45,
   "metadata": {},
   "outputs": [
    {
     "name": "stdout",
     "output_type": "stream",
     "text": [
      "tensor([2, 2, 2, 2, 0])\n"
     ]
    }
   ],
   "source": [
    "predict = model2(original_image.to(device)).argmax(dim=1)\n",
    "print(predict)"
   ]
  },
  {
   "cell_type": "code",
   "execution_count": 46,
   "metadata": {},
   "outputs": [
    {
     "data": {
      "image/png": "[encoded data removed]",
      "text/plain": [
       "<Figure size 300x300 with 5 Axes>"
      ]
     },
     "metadata": {},
     "output_type": "display_data"
    }
   ],
   "source": [
    "plt.figure(figsize=(3,3))\n",
    "for i in range(len(original_image)):\n",
    "  plt.subplot(1,5,i+1)\n",
    "  plt.imshow(original_image[i].permute(1,2,0))\n",
    "  plt.axis('off')\n",
    "plt.show()"
   ]
  }
 ],
 "metadata": {
  "kernelspec": {
   "display_name": "base",
   "language": "python",
   "name": "python3"
  },
  "language_info": {
   "codemirror_mode": {
    "name": "ipython",
    "version": 3
   },
   "file_extension": ".py",
   "mimetype": "text/x-python",
   "name": "python",
   "nbconvert_exporter": "python",
   "pygments_lexer": "ipython3",
   "version": "3.11.4"
  },
  "orig_nbformat": 4
 },
 "nbformat": 4,
 "nbformat_minor": 2
}
